{
 "cells": [
  {
   "cell_type": "code",
   "execution_count": 1,
   "metadata": {},
   "outputs": [],
   "source": [
    "import requests\n",
    "import fitz\n",
    "import json\n",
    "import os\n",
    "import base64\n",
    "\n",
    "# Enables the display of multiple outputs when running a cell\n",
    "from IPython.core.interactiveshell import InteractiveShell\n",
    "InteractiveShell.ast_node_interactivity = 'all'"
   ]
  },
  {
   "cell_type": "code",
   "execution_count": 2,
   "metadata": {},
   "outputs": [],
   "source": [
    "apikey = os.getenv('OPENAI_API_KEY')"
   ]
  },
  {
   "cell_type": "code",
   "execution_count": 3,
   "metadata": {},
   "outputs": [],
   "source": [
    "def encode_image(image_path: str):\n",
    "    with open(image_path, \"rb\") as image_file:\n",
    "        return base64.b64encode(image_file.read()).decode('utf-8')"
   ]
  },
  {
   "cell_type": "code",
   "execution_count": 4,
   "metadata": {},
   "outputs": [
    {
     "data": {
      "text/plain": [
       "'JVBERi0xLjQKJb662+4K ...TRIMMED'"
      ]
     },
     "execution_count": 4,
     "metadata": {},
     "output_type": "execute_result"
    }
   ],
   "source": [
    "path = 'E:/Downloads/invoice.pdf'\n",
    "\n",
    "pdf_base64 = encode_image(path)\n",
    "pdf_base64[:20] + ' ...TRIMMED'"
   ]
  },
  {
   "cell_type": "code",
   "execution_count": 10,
   "metadata": {},
   "outputs": [
    {
     "data": {
      "text/plain": [
       "\"b'%PDF-1.4\\\\n%\\\\xbe\\\\xba\\\\xdb\\\\xee\\\\n1 0 o' ...TRIMMED\""
      ]
     },
     "execution_count": 10,
     "metadata": {},
     "output_type": "execute_result"
    }
   ],
   "source": [
    "pdf_bytes = base64.b64decode(pdf_base64)\n",
    "str(pdf_bytes[:20]) + ' ...TRIMMED'"
   ]
  },
  {
   "cell_type": "code",
   "execution_count": 11,
   "metadata": {},
   "outputs": [
    {
     "data": {
      "text/plain": [
       "'iVBORw0KGgoAAAANSUhE ...TRIMMED'"
      ]
     },
     "execution_count": 11,
     "metadata": {},
     "output_type": "execute_result"
    }
   ],
   "source": [
    "doc = fitz.open(stream=pdf_bytes, filetype=\"pdf\")\n",
    "png_base64_list = []\n",
    "\n",
    "for page_num in range(len(doc)):\n",
    "    page = doc.load_page(page_num)\n",
    "    pix = page.get_pixmap(alpha=True)\n",
    "    png_bytes = pix.tobytes(output=\"png\")\n",
    "    png_base64 = base64.b64encode(png_bytes).decode('utf-8')\n",
    "    png_base64_list.append(png_base64)\n",
    "\n",
    "png_base64 = png_base64_list[0]\n",
    "str(png_base64[:20]) + ' ...TRIMMED'"
   ]
  },
  {
   "cell_type": "code",
   "execution_count": 63,
   "metadata": {},
   "outputs": [],
   "source": [
    "url = 'https://api.openai.com/v1/chat/completions'\n",
    "\n",
    "headers = {\n",
    "    'Content-Type': 'application/json',\n",
    "    'Authorization': f'Bearer {apikey}'\n",
    "}\n",
    "\n",
    "data = {\n",
    "    \"model\": \"gpt-4-turbo\",\n",
    "    \"response_format\": { \"type\": \"json_object\" },\n",
    "    \"messages\": [\n",
    "    {\n",
    "        \"role\": \"user\",\n",
    "        \"content\": [\n",
    "        {\n",
    "            \"type\": \"text\",\n",
    "            \"text\": \"Extract the invoice identifier and the total amount without money symbol. Output must be in a json structure with the following keys: identifier and amount.\"\n",
    "        },\n",
    "        {\n",
    "            \"type\": \"image_url\",\n",
    "            \"image_url\": {\n",
    "            \"url\": f\"data:image/jpeg;base64,{png_base64}\"\n",
    "            }\n",
    "        }\n",
    "        ]\n",
    "    }\n",
    "    ]\n",
    "}"
   ]
  },
  {
   "cell_type": "code",
   "execution_count": 64,
   "metadata": {},
   "outputs": [
    {
     "data": {
      "text/plain": [
       "'{\\n  \"id\": \"chatcmpl-9hh63QaKMxEQRvhvwX9UrXDK2RYdw\",\\n  \"object\": \"chat.completion\",\\n  \"created\": 1720200795,\\n  \"model\": \"gpt-4-turbo-2024-04-09\",\\n  \"choices\": [\\n    {\\n      \"index\": 0,\\n      \"message\": {\\n        \"role\": \"assistant\",\\n        \"content\": \"{\\\\n  \\\\\"identifier\\\\\": \\\\\"INVO-005\\\\\",\\\\n  \\\\\"amount\\\\\": \\\\\"425\\\\\"\\\\n}\"\\n      },\\n      \"logprobs\": null,\\n      \"finish_reason\": \"stop\"\\n    }\\n  ],\\n  \"usage\": {\\n    \"prompt_tokens\": 1140,\\n    \"completion_tokens\": 19,\\n    \"total_tokens\": 1159\\n  },\\n  \"system_fingerprint\": \"fp_7d35882d38\"\\n}\\n'"
      ]
     },
     "execution_count": 64,
     "metadata": {},
     "output_type": "execute_result"
    }
   ],
   "source": [
    "response = requests.post(url=url, headers=headers, json=data)\n",
    "response.text"
   ]
  },
  {
   "cell_type": "code",
   "execution_count": 66,
   "metadata": {},
   "outputs": [
    {
     "data": {
      "text/plain": [
       "{'id': 'chatcmpl-9hh63QaKMxEQRvhvwX9UrXDK2RYdw',\n",
       " 'object': 'chat.completion',\n",
       " 'created': 1720200795,\n",
       " 'model': 'gpt-4-turbo-2024-04-09',\n",
       " 'choices': [{'index': 0,\n",
       "   'message': {'role': 'assistant',\n",
       "    'content': '{\\n  \"identifier\": \"INVO-005\",\\n  \"amount\": \"425\"\\n}'},\n",
       "   'logprobs': None,\n",
       "   'finish_reason': 'stop'}],\n",
       " 'usage': {'prompt_tokens': 1140,\n",
       "  'completion_tokens': 19,\n",
       "  'total_tokens': 1159},\n",
       " 'system_fingerprint': 'fp_7d35882d38'}"
      ]
     },
     "execution_count": 66,
     "metadata": {},
     "output_type": "execute_result"
    }
   ],
   "source": [
    "json_data = response.json()\n",
    "json_data"
   ]
  },
  {
   "cell_type": "code",
   "execution_count": 67,
   "metadata": {},
   "outputs": [
    {
     "data": {
      "text/plain": [
       "{'identifier': 'INVO-005', 'amount': '425'}"
      ]
     },
     "execution_count": 67,
     "metadata": {},
     "output_type": "execute_result"
    }
   ],
   "source": [
    "content = json_data['choices'][0]['message']['content'] if 'choices' in json_data else None\n",
    "cleaned = json.loads(content)\n",
    "cleaned"
   ]
  }
 ],
 "metadata": {
  "kernelspec": {
   "display_name": "Python 3",
   "language": "python",
   "name": "python3"
  },
  "language_info": {
   "codemirror_mode": {
    "name": "ipython",
    "version": 3
   },
   "file_extension": ".py",
   "mimetype": "text/x-python",
   "name": "python",
   "nbconvert_exporter": "python",
   "pygments_lexer": "ipython3",
   "version": "3.12.3"
  }
 },
 "nbformat": 4,
 "nbformat_minor": 2
}
